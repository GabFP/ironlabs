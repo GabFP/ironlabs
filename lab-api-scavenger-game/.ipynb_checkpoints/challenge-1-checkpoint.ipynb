{
 "cells": [
  {
   "cell_type": "code",
   "execution_count": 18,
   "metadata": {},
   "outputs": [],
   "source": [
    "import requests\n",
    "url = \"https://api.github.com/repos/ironhack-datalabs/madrid-oct-2018/forks\""
   ]
  },
  {
   "cell_type": "code",
   "execution_count": 19,
   "metadata": {},
   "outputs": [],
   "source": [
    "request = requests.get(url)\n",
    "rj = request.json()"
   ]
  },
  {
   "cell_type": "code",
   "execution_count": 21,
   "metadata": {},
   "outputs": [],
   "source": [
    "languages = [requests.get(i[\"languages_url\"]).json() for i in rj]"
   ]
  },
  {
   "cell_type": "code",
   "execution_count": 28,
   "metadata": {},
   "outputs": [
    {
     "data": {
      "text/plain": [
       "[['Jupyter Notebook', 'HTML', 'Python'],\n",
       " ['Jupyter Notebook', 'HTML', 'Python'],\n",
       " ['Jupyter Notebook', 'HTML', 'Python'],\n",
       " ['Jupyter Notebook', 'HTML', 'Python'],\n",
       " ['Jupyter Notebook', 'HTML', 'Python'],\n",
       " ['HTML', 'Jupyter Notebook', 'Python'],\n",
       " ['Jupyter Notebook', 'HTML', 'Python', 'Shell'],\n",
       " ['Jupyter Notebook', 'HTML', 'Python'],\n",
       " ['Python'],\n",
       " ['Jupyter Notebook', 'HTML', 'Python'],\n",
       " ['Jupyter Notebook', 'HTML', 'Python'],\n",
       " ['Jupyter Notebook', 'Python'],\n",
       " ['Jupyter Notebook', 'HTML', 'Python'],\n",
       " ['Jupyter Notebook', 'HTML', 'Python'],\n",
       " ['Jupyter Notebook', 'HTML', 'Python']]"
      ]
     },
     "execution_count": 28,
     "metadata": {},
     "output_type": "execute_result"
    }
   ],
   "source": [
    "langarray = [list(i.keys()) for i in languages]\n",
    "langarray"
   ]
  },
  {
   "cell_type": "code",
   "execution_count": null,
   "metadata": {},
   "outputs": [],
   "source": []
  }
 ],
 "metadata": {
  "kernelspec": {
   "display_name": "Python 3",
   "language": "python",
   "name": "python3"
  },
  "language_info": {
   "codemirror_mode": {
    "name": "ipython",
    "version": 3
   },
   "file_extension": ".py",
   "mimetype": "text/x-python",
   "name": "python",
   "nbconvert_exporter": "python",
   "pygments_lexer": "ipython3",
   "version": "3.7.4"
  }
 },
 "nbformat": 4,
 "nbformat_minor": 2
}
