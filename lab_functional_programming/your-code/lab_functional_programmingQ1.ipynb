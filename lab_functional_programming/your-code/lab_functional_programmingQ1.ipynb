{
 "cells": [
  {
   "cell_type": "markdown",
   "metadata": {},
   "source": [
    "In the cell below, create a Python function that wraps your previous solution for the Bag of Words lab.\n",
    "\n",
    "Requirements:\n",
    "\n",
    "1. Your function should accept the following parameters:\n",
    "    * `docs` [REQUIRED] - array of document paths.\n",
    "    * `stop_words` [OPTIONAL] - array of stop words. The default value is an empty array.\n",
    "\n",
    "1. Your function should return a Python object that contains the following:\n",
    "    * `bag_of_words` - array of strings of normalized unique words in the corpus.\n",
    "    * `term_freq` - array of the term-frequency vectors."
   ]
  },
  {
   "cell_type": "code",
   "execution_count": 1,
   "metadata": {},
   "outputs": [],
   "source": [
    "import re"
   ]
  },
  {
   "cell_type": "code",
   "execution_count": 2,
   "metadata": {},
   "outputs": [],
   "source": [
    "def get_bow_from_docs(docs, stop_words=[]):\n",
    "    \n",
    "# In the function, first define the variables you will use such as `corpus`, `bag_of_words`, and `term_freq`.\n",
    "    \n",
    "    corpus = [re.sub(\"[^a-z0-9A-Z\\s]\", \"\", open(i, \"r\").read()).lower() for i in docs]\n",
    "    bagOfWords = []\n",
    "    for i in corpus:\n",
    "        for x in i.split():\n",
    "            if x not in bagOfWords:\n",
    "                bagOfWords.append(x)    \n",
    "    bagOfWords = [i for i in bagOfWords if i not in stop_words]\n",
    "    termFreq=[]\n",
    "    for i in corpus:\n",
    "        termFreq.append([])\n",
    "        for x in bagOfWords:\n",
    "            termFreq[corpus.index(i)].append(i.split().count(x))\n",
    "    # Now return your output as an object\n",
    "    return {\n",
    "        \"bagOfWords\": bagOfWords,\n",
    "        \"termFreq\": termFreq\n",
    "    }\n",
    "    "
   ]
  },
  {
   "cell_type": "markdown",
   "metadata": {},
   "source": [
    "Test your function without stop words. You should see the output like below:\n",
    "\n",
    "```{'bag_of_words': ['ironhack', 'is', 'cool', 'i', 'love', 'am', 'a', 'student', 'at'], 'term_freq': [[1, 1, 1, 0, 0, 0, 0, 0, 0], [1, 0, 0, 1, 1, 0, 0, 0, 0], [1, 0, 0, 1, 0, 1, 1, 1, 1]]}```"
   ]
  },
  {
   "cell_type": "code",
   "execution_count": 3,
   "metadata": {},
   "outputs": [],
   "source": [
    "# Define doc paths array\n",
    "docs = ['doc1.txt',\n",
    "       'doc2.txt',\n",
    "       'doc3.txt']"
   ]
  },
  {
   "cell_type": "code",
   "execution_count": 4,
   "metadata": {},
   "outputs": [],
   "source": [
    "# Obtain BoW from your function\n",
    "bow = get_bow_from_docs(docs)"
   ]
  },
  {
   "cell_type": "code",
   "execution_count": 5,
   "metadata": {},
   "outputs": [
    {
     "name": "stdout",
     "output_type": "stream",
     "text": [
      "{'bagOfWords': ['ironhack', 'is', 'cool', 'i', 'love', 'am', 'a', 'student', 'at'], 'termFreq': [[1, 1, 1, 0, 0, 0, 0, 0, 0], [1, 0, 0, 1, 1, 0, 0, 0, 0], [1, 0, 0, 1, 0, 1, 1, 1, 1]]}\n"
     ]
    }
   ],
   "source": [
    "# Print BoW\n",
    "print(bow)"
   ]
  },
  {
   "cell_type": "markdown",
   "metadata": {},
   "source": [
    "If your attempt above is successful, nice work done!\n",
    "\n",
    "Now test your function again with the stop words. In the previous lab we defined the stop words in a large array. In this lab, we'll import the stop words from Scikit-Learn."
   ]
  },
  {
   "cell_type": "code",
   "execution_count": 6,
   "metadata": {},
   "outputs": [
    {
     "name": "stdout",
     "output_type": "stream",
     "text": [
      "frozenset({'where', 'perhaps', 'fifteen', 'to', 'back', 'together', 'four', 'whither', 'else', 'everywhere', 'empty', 'twenty', 'if', 'eight', 'became', 'besides', 'under', 'yet', 'as', 'every', 'latter', 'interest', 'sixty', 'mine', 'several', 'up', 'please', 'upon', 'herein', 'her', 'describe', 'themselves', 'after', 'whose', 'formerly', 'what', 'somehow', 'him', 'was', 'between', 'therefore', 'were', 'along', 'bottom', 'that', 'wherein', 'should', 'ours', 'one', 'full', 'serious', 'over', 'indeed', 'he', 'eg', 'meanwhile', 'part', 'our', 'now', 'give', 'also', 'very', 'never', 'thin', 'forty', 'such', 'two', 'everything', 'whole', 'the', 'hereupon', 'being', 'of', 'could', 'must', 'six', 'done', 'can', 'other', 'top', 'although', 'cry', 'bill', 'here', 'latterly', 'his', 'show', 'less', 'due', 'side', 'nothing', 'former', 'others', 'will', 'neither', 'you', 'anyone', 'five', 'moreover', 'mostly', 'behind', 'another', 'ever', 'therein', 'beyond', 'wherever', 'are', 'once', 'un', 'found', 'often', 'almost', 'who', 'each', 'whereby', 'ourselves', 'detail', 'these', 'beside', 'cant', 'would', 'always', 'whereas', 'herself', 're', 'amoungst', 'across', 'among', 'sincere', 'with', 'thru', 'until', 'so', 'somewhere', 'a', 'but', 'thereupon', 'call', 'no', 'out', 'thence', 'hers', 'some', 'hereafter', 'none', 'afterwards', 'get', 'your', 'find', 'something', 'seemed', 'which', 'much', 'this', 'fifty', 'next', 'against', 'without', 'nine', 'both', 'co', 'though', 'i', 'been', 'anyway', 'still', 'thick', 'off', 'or', 'further', 'take', 'himself', 'there', 'when', 'she', 'either', 'then', 'three', 'below', 'amongst', 'thereby', 'from', 'beforehand', 'about', 'elsewhere', 'nobody', 'nowhere', 'while', 'within', 'noone', 'mill', 'enough', 'sometimes', 'go', 'see', 'already', 'move', 'someone', 'de', 'hereby', 'at', 'they', 'thus', 'in', 'become', 'hence', 'had', 'third', 'by', 'system', 'whence', 'same', 'fill', 'nor', 'own', 'yours', 'them', 'onto', 'whenever', 'through', 'its', 'amount', 'couldnt', 'do', 'itself', 'eleven', 'ie', 'have', 'nevertheless', 'few', 'it', 'an', 'fire', 'front', 'anything', 'well', 'toward', 'becoming', 'am', 'sometime', 'otherwise', 'us', 'cannot', 'for', 'twelve', 'however', 'be', 'seems', 'con', 'inc', 'last', 'their', 'might', 'around', 'me', 'via', 'first', 'during', 'throughout', 'than', 'least', 'ten', 'why', 'hasnt', 'thereafter', 'ltd', 'how', 'name', 'made', 'per', 'may', 'my', 'seeming', 'not', 'since', 'because', 'yourselves', 'all', 'before', 'even', 'alone', 'put', 'etc', 'whoever', 'rather', 'everyone', 'anyhow', 'and', 'seem', 'too', 'myself', 'namely', 'many', 'has', 'on', 'whereupon', 'is', 'whatever', 'into', 'above', 'whether', 'towards', 'any', 'down', 'most', 'hundred', 'yourself', 'whereafter', 'becomes', 'keep', 'those', 'anywhere', 'except', 'again', 'we', 'whom', 'only', 'more'})\n"
     ]
    }
   ],
   "source": [
    "from sklearn.feature_extraction import stop_words\n",
    "print(stop_words.ENGLISH_STOP_WORDS)"
   ]
  },
  {
   "cell_type": "markdown",
   "metadata": {},
   "source": [
    "You should have seen a large list of words that looks like:\n",
    "\n",
    "```frozenset({'across', 'mine', 'cannot', ...})```\n",
    "\n",
    "`frozenset` is a type of Python object that is immutable. In this lab you can use it just like an array without conversion."
   ]
  },
  {
   "cell_type": "markdown",
   "metadata": {},
   "source": [
    "Next, test your function with supplying `stop_words.ENGLISH_STOP_WORDS` as the second parameter."
   ]
  },
  {
   "cell_type": "code",
   "execution_count": 7,
   "metadata": {},
   "outputs": [],
   "source": [
    "bow = get_bow_from_docs(docs, stop_words=stop_words.ENGLISH_STOP_WORDS)"
   ]
  },
  {
   "cell_type": "code",
   "execution_count": 8,
   "metadata": {},
   "outputs": [
    {
     "name": "stdout",
     "output_type": "stream",
     "text": [
      "{'bagOfWords': ['ironhack', 'cool', 'love', 'student'], 'termFreq': [[1, 1, 0, 0], [1, 0, 1, 0], [1, 0, 0, 1]]}\n"
     ]
    }
   ],
   "source": [
    "print(bow)"
   ]
  },
  {
   "cell_type": "markdown",
   "metadata": {},
   "source": [
    "You should have seen:\n",
    "\n",
    "```{'bag_of_words': ['ironhack', 'cool', 'love', 'student'], 'term_freq': [[1, 1, 0, 0], [1, 0, 1, 0], [1, 0, 0, 1]]}```"
   ]
  }
 ],
 "metadata": {
  "kernelspec": {
   "display_name": "Python 3",
   "language": "python",
   "name": "python3"
  },
  "language_info": {
   "codemirror_mode": {
    "name": "ipython",
    "version": 3
   },
   "file_extension": ".py",
   "mimetype": "text/x-python",
   "name": "python",
   "nbconvert_exporter": "python",
   "pygments_lexer": "ipython3",
   "version": "3.7.4"
  }
 },
 "nbformat": 4,
 "nbformat_minor": 4
}
