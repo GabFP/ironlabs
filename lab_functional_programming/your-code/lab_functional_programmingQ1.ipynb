{
 "cells": [
  {
   "cell_type": "markdown",
   "metadata": {},
   "source": [
    "In the cell below, create a Python function that wraps your previous solution for the Bag of Words lab.\n",
    "\n",
    "Requirements:\n",
    "\n",
    "1. Your function should accept the following parameters:\n",
    "    * `docs` [REQUIRED] - array of document paths.\n",
    "    * `stop_words` [OPTIONAL] - array of stop words. The default value is an empty array.\n",
    "\n",
    "1. Your function should return a Python object that contains the following:\n",
    "    * `bag_of_words` - array of strings of normalized unique words in the corpus.\n",
    "    * `term_freq` - array of the term-frequency vectors."
   ]
  },
  {
   "cell_type": "code",
   "execution_count": 4,
   "metadata": {},
   "outputs": [],
   "source": [
    "import re"
   ]
  },
  {
   "cell_type": "code",
   "execution_count": 45,
   "metadata": {},
   "outputs": [],
   "source": [
    "def get_bow_from_docs(docs, stop_words=[]):\n",
    "    \n",
    "# In the function, first define the variables you will use such as `corpus`, `bag_of_words`, and `term_freq`.\n",
    "    \n",
    "    \"\"\"\n",
    "    Loop `docs` and read the content of each doc into a string in `corpus`.\n",
    "    Remember to convert the doc content to lowercases and remove punctuation.\n",
    "    \"\"\"\n",
    "    corpus = [open(\"./\"+i, \"r\") for i in docs]\n",
    "    \"\"\"\n",
    "    Loop `corpus`. Append the terms in each doc into the `bag_of_words` array. The terms in `bag_of_words` \n",
    "    should be unique which means before adding each term you need to check if it's already added to the array.\n",
    "    In addition, check if each term is in the `stop_words` array. Only append the term to `bag_of_words`\n",
    "    if it is not a stop word.\n",
    "    \"\"\"\n",
    "    bagOfWords = []\n",
    "    for i in corpus:\n",
    "        if i not in bagOfWords:\n",
    "            bagOfWords.append(i)\n",
    "    \n",
    "    \n",
    "    \n",
    "    \n",
    "       \n",
    "    \"\"\"\n",
    "    Loop `corpus` again. For each doc string, count the number of occurrences of each term in `bag_of_words`. \n",
    "    Create an array for each doc's term frequency and append it to `term_freq`.\n",
    "    \"\"\"\n",
    "    termFreq = []\n",
    "    for i in corpus:\n",
    "        termFreq.append([])\n",
    "        for x in i.split():\n",
    "            if x in bagOfWords:\n",
    "                termFreq[corpus.index(i)].append(x)\n",
    "    # Now return your output as an object\n",
    "    return {\n",
    "        \"bagOfWords\": bagOfWords,\n",
    "        \"termFreq\": termFreq\n",
    "    }\n",
    "    "
   ]
  },
  {
   "cell_type": "markdown",
   "metadata": {},
   "source": [
    "Test your function without stop words. You should see the output like below:\n",
    "\n",
    "```{'bag_of_words': ['ironhack', 'is', 'cool', 'i', 'love', 'am', 'a', 'student', 'at'], 'term_freq': [[1, 1, 1, 0, 0, 0, 0, 0, 0], [1, 0, 0, 1, 1, 0, 0, 0, 0], [1, 0, 0, 1, 0, 1, 1, 1, 1]]}```"
   ]
  },
  {
   "cell_type": "code",
   "execution_count": 46,
   "metadata": {},
   "outputs": [],
   "source": [
    "# Define doc paths array\n",
    "docs = ['doc1.txt',\n",
    "       'doc2.txt',\n",
    "       'doc3.txt']"
   ]
  },
  {
   "cell_type": "code",
   "execution_count": 47,
   "metadata": {},
   "outputs": [
    {
     "ename": "TypeError",
     "evalue": "expected string or bytes-like object",
     "output_type": "error",
     "traceback": [
      "\u001b[1;31m---------------------------------------------------------------------------\u001b[0m",
      "\u001b[1;31mTypeError\u001b[0m                                 Traceback (most recent call last)",
      "\u001b[1;32m<ipython-input-47-d28ad2c12c0c>\u001b[0m in \u001b[0;36m<module>\u001b[1;34m\u001b[0m\n\u001b[0;32m      1\u001b[0m \u001b[1;31m# Obtain BoW from your function\u001b[0m\u001b[1;33m\u001b[0m\u001b[1;33m\u001b[0m\u001b[1;33m\u001b[0m\u001b[0m\n\u001b[1;32m----> 2\u001b[1;33m \u001b[0mbow\u001b[0m \u001b[1;33m=\u001b[0m \u001b[0mget_bow_from_docs\u001b[0m\u001b[1;33m(\u001b[0m\u001b[0mdocs\u001b[0m\u001b[1;33m)\u001b[0m\u001b[1;33m\u001b[0m\u001b[1;33m\u001b[0m\u001b[0m\n\u001b[0m",
      "\u001b[1;32m<ipython-input-45-9dcc507c7698>\u001b[0m in \u001b[0;36mget_bow_from_docs\u001b[1;34m(docs, stop_words)\u001b[0m\n\u001b[0;32m      7\u001b[0m     \u001b[0mRemember\u001b[0m \u001b[0mto\u001b[0m \u001b[0mconvert\u001b[0m \u001b[0mthe\u001b[0m \u001b[0mdoc\u001b[0m \u001b[0mcontent\u001b[0m \u001b[0mto\u001b[0m \u001b[0mlowercases\u001b[0m \u001b[1;32mand\u001b[0m \u001b[0mremove\u001b[0m \u001b[0mpunctuation\u001b[0m\u001b[1;33m.\u001b[0m\u001b[1;33m\u001b[0m\u001b[1;33m\u001b[0m\u001b[0m\n\u001b[0;32m      8\u001b[0m     \"\"\"\n\u001b[1;32m----> 9\u001b[1;33m     \u001b[0mcorpus\u001b[0m \u001b[1;33m=\u001b[0m \u001b[1;33m[\u001b[0m\u001b[0mre\u001b[0m\u001b[1;33m.\u001b[0m\u001b[0msub\u001b[0m\u001b[1;33m(\u001b[0m\u001b[1;34mr\"\\W\"\u001b[0m\u001b[1;33m,\u001b[0m\u001b[1;34m\"\"\u001b[0m\u001b[1;33m,\u001b[0m\u001b[0mopen\u001b[0m\u001b[1;33m(\u001b[0m\u001b[1;34m\"./\"\u001b[0m\u001b[1;33m+\u001b[0m\u001b[0mi\u001b[0m\u001b[1;33m,\u001b[0m \u001b[1;34m\"r\"\u001b[0m\u001b[1;33m)\u001b[0m\u001b[1;33m.\u001b[0m\u001b[0mread\u001b[0m\u001b[1;33m)\u001b[0m \u001b[1;32mfor\u001b[0m \u001b[0mi\u001b[0m \u001b[1;32min\u001b[0m \u001b[0mdocs\u001b[0m\u001b[1;33m]\u001b[0m\u001b[1;33m\u001b[0m\u001b[1;33m\u001b[0m\u001b[0m\n\u001b[0m\u001b[0;32m     10\u001b[0m     \"\"\"\n\u001b[0;32m     11\u001b[0m     \u001b[0mLoop\u001b[0m\u001b[0;31m \u001b[0m\u001b[0;31m`\u001b[0m\u001b[0mcorpus\u001b[0m\u001b[0;31m`\u001b[0m\u001b[1;33m.\u001b[0m \u001b[0mAppend\u001b[0m \u001b[0mthe\u001b[0m \u001b[0mterms\u001b[0m \u001b[1;32min\u001b[0m \u001b[0meach\u001b[0m \u001b[0mdoc\u001b[0m \u001b[0minto\u001b[0m \u001b[0mthe\u001b[0m\u001b[0;31m \u001b[0m\u001b[0;31m`\u001b[0m\u001b[0mbag_of_words\u001b[0m\u001b[0;31m`\u001b[0m \u001b[0marray\u001b[0m\u001b[1;33m.\u001b[0m \u001b[0mThe\u001b[0m \u001b[0mterms\u001b[0m \u001b[1;32min\u001b[0m\u001b[0;31m \u001b[0m\u001b[0;31m`\u001b[0m\u001b[0mbag_of_words\u001b[0m\u001b[0;31m`\u001b[0m\u001b[1;33m\u001b[0m\u001b[1;33m\u001b[0m\u001b[0m\n",
      "\u001b[1;32m<ipython-input-45-9dcc507c7698>\u001b[0m in \u001b[0;36m<listcomp>\u001b[1;34m(.0)\u001b[0m\n\u001b[0;32m      7\u001b[0m     \u001b[0mRemember\u001b[0m \u001b[0mto\u001b[0m \u001b[0mconvert\u001b[0m \u001b[0mthe\u001b[0m \u001b[0mdoc\u001b[0m \u001b[0mcontent\u001b[0m \u001b[0mto\u001b[0m \u001b[0mlowercases\u001b[0m \u001b[1;32mand\u001b[0m \u001b[0mremove\u001b[0m \u001b[0mpunctuation\u001b[0m\u001b[1;33m.\u001b[0m\u001b[1;33m\u001b[0m\u001b[1;33m\u001b[0m\u001b[0m\n\u001b[0;32m      8\u001b[0m     \"\"\"\n\u001b[1;32m----> 9\u001b[1;33m     \u001b[0mcorpus\u001b[0m \u001b[1;33m=\u001b[0m \u001b[1;33m[\u001b[0m\u001b[0mre\u001b[0m\u001b[1;33m.\u001b[0m\u001b[0msub\u001b[0m\u001b[1;33m(\u001b[0m\u001b[1;34mr\"\\W\"\u001b[0m\u001b[1;33m,\u001b[0m\u001b[1;34m\"\"\u001b[0m\u001b[1;33m,\u001b[0m\u001b[0mopen\u001b[0m\u001b[1;33m(\u001b[0m\u001b[1;34m\"./\"\u001b[0m\u001b[1;33m+\u001b[0m\u001b[0mi\u001b[0m\u001b[1;33m,\u001b[0m \u001b[1;34m\"r\"\u001b[0m\u001b[1;33m)\u001b[0m\u001b[1;33m.\u001b[0m\u001b[0mread\u001b[0m\u001b[1;33m)\u001b[0m \u001b[1;32mfor\u001b[0m \u001b[0mi\u001b[0m \u001b[1;32min\u001b[0m \u001b[0mdocs\u001b[0m\u001b[1;33m]\u001b[0m\u001b[1;33m\u001b[0m\u001b[1;33m\u001b[0m\u001b[0m\n\u001b[0m\u001b[0;32m     10\u001b[0m     \"\"\"\n\u001b[0;32m     11\u001b[0m     \u001b[0mLoop\u001b[0m\u001b[0;31m \u001b[0m\u001b[0;31m`\u001b[0m\u001b[0mcorpus\u001b[0m\u001b[0;31m`\u001b[0m\u001b[1;33m.\u001b[0m \u001b[0mAppend\u001b[0m \u001b[0mthe\u001b[0m \u001b[0mterms\u001b[0m \u001b[1;32min\u001b[0m \u001b[0meach\u001b[0m \u001b[0mdoc\u001b[0m \u001b[0minto\u001b[0m \u001b[0mthe\u001b[0m\u001b[0;31m \u001b[0m\u001b[0;31m`\u001b[0m\u001b[0mbag_of_words\u001b[0m\u001b[0;31m`\u001b[0m \u001b[0marray\u001b[0m\u001b[1;33m.\u001b[0m \u001b[0mThe\u001b[0m \u001b[0mterms\u001b[0m \u001b[1;32min\u001b[0m\u001b[0;31m \u001b[0m\u001b[0;31m`\u001b[0m\u001b[0mbag_of_words\u001b[0m\u001b[0;31m`\u001b[0m\u001b[1;33m\u001b[0m\u001b[1;33m\u001b[0m\u001b[0m\n",
      "\u001b[1;32mc:\\users\\gabfp\\appdata\\local\\programs\\python\\python37-32\\lib\\re.py\u001b[0m in \u001b[0;36msub\u001b[1;34m(pattern, repl, string, count, flags)\u001b[0m\n\u001b[0;32m    190\u001b[0m     \u001b[0ma\u001b[0m \u001b[0mcallable\u001b[0m\u001b[1;33m,\u001b[0m \u001b[0mit\u001b[0m\u001b[0;31m'\u001b[0m\u001b[0ms\u001b[0m \u001b[0mpassed\u001b[0m \u001b[0mthe\u001b[0m \u001b[0mMatch\u001b[0m \u001b[0mobject\u001b[0m \u001b[1;32mand\u001b[0m \u001b[0mmust\u001b[0m \u001b[1;32mreturn\u001b[0m\u001b[1;33m\u001b[0m\u001b[1;33m\u001b[0m\u001b[0m\n\u001b[0;32m    191\u001b[0m     a replacement string to be used.\"\"\"\n\u001b[1;32m--> 192\u001b[1;33m     \u001b[1;32mreturn\u001b[0m \u001b[0m_compile\u001b[0m\u001b[1;33m(\u001b[0m\u001b[0mpattern\u001b[0m\u001b[1;33m,\u001b[0m \u001b[0mflags\u001b[0m\u001b[1;33m)\u001b[0m\u001b[1;33m.\u001b[0m\u001b[0msub\u001b[0m\u001b[1;33m(\u001b[0m\u001b[0mrepl\u001b[0m\u001b[1;33m,\u001b[0m \u001b[0mstring\u001b[0m\u001b[1;33m,\u001b[0m \u001b[0mcount\u001b[0m\u001b[1;33m)\u001b[0m\u001b[1;33m\u001b[0m\u001b[1;33m\u001b[0m\u001b[0m\n\u001b[0m\u001b[0;32m    193\u001b[0m \u001b[1;33m\u001b[0m\u001b[0m\n\u001b[0;32m    194\u001b[0m \u001b[1;32mdef\u001b[0m \u001b[0msubn\u001b[0m\u001b[1;33m(\u001b[0m\u001b[0mpattern\u001b[0m\u001b[1;33m,\u001b[0m \u001b[0mrepl\u001b[0m\u001b[1;33m,\u001b[0m \u001b[0mstring\u001b[0m\u001b[1;33m,\u001b[0m \u001b[0mcount\u001b[0m\u001b[1;33m=\u001b[0m\u001b[1;36m0\u001b[0m\u001b[1;33m,\u001b[0m \u001b[0mflags\u001b[0m\u001b[1;33m=\u001b[0m\u001b[1;36m0\u001b[0m\u001b[1;33m)\u001b[0m\u001b[1;33m:\u001b[0m\u001b[1;33m\u001b[0m\u001b[1;33m\u001b[0m\u001b[0m\n",
      "\u001b[1;31mTypeError\u001b[0m: expected string or bytes-like object"
     ]
    }
   ],
   "source": [
    "# Obtain BoW from your function\n",
    "bow = get_bow_from_docs(docs)"
   ]
  },
  {
   "cell_type": "code",
   "execution_count": 44,
   "metadata": {},
   "outputs": [
    {
     "name": "stdout",
     "output_type": "stream",
     "text": [
      "{'bagOfWords': ['builtinmethodreadof_ioTextIOWrapperobjectat0x0FA11DB0'], 'termFreq': [['builtinmethodreadof_ioTextIOWrapperobjectat0x0FA11DB0', 'builtinmethodreadof_ioTextIOWrapperobjectat0x0FA11DB0', 'builtinmethodreadof_ioTextIOWrapperobjectat0x0FA11DB0'], [], []]}\n"
     ]
    }
   ],
   "source": [
    "# Print BoW\n",
    "print(bow)"
   ]
  },
  {
   "cell_type": "markdown",
   "metadata": {},
   "source": [
    "If your attempt above is successful, nice work done!\n",
    "\n",
    "Now test your function again with the stop words. In the previous lab we defined the stop words in a large array. In this lab, we'll import the stop words from Scikit-Learn."
   ]
  },
  {
   "cell_type": "code",
   "execution_count": 11,
   "metadata": {},
   "outputs": [
    {
     "name": "stdout",
     "output_type": "stream",
     "text": [
      "frozenset({'been', 'couldnt', 'myself', 'ten', 'front', 'other', 'latterly', 'an', 'hereafter', 'nothing', 'take', 'part', 'if', 'next', 'whether', 'elsewhere', 'from', 'forty', 'formerly', 'also', 'because', 'herein', 'somewhere', 'less', 'anything', 'nor', 'twenty', 'sincere', 'whereas', 'hence', 'one', 'not', 'themselves', 'so', 'fifteen', 'least', 'except', 'hers', 'whither', 'others', 'out', 'about', 'until', 'perhaps', 'beyond', 'up', 'many', 'thus', 'along', 'former', 'bill', 'afterwards', 'now', 'last', 'who', 'any', 'becomes', 'but', 'hasnt', 'on', 'interest', 'together', 'we', 'between', 'at', 'nine', 'side', 'two', 'through', 'amoungst', 'though', 'thence', 'more', 'he', 're', 'get', 'always', 'me', 'moreover', 'thereafter', 'when', 'herself', 'seems', 'therein', 'no', 'beforehand', 'whence', 'how', 'see', 'fill', 'onto', 'un', 'that', 'whom', 'with', 'anyone', 'mostly', 'him', 'cry', 'the', 'by', 'seem', 'every', 'top', 'these', 'via', 'whoever', 'hereby', 'go', 'detail', 'keep', 'almost', 'beside', 'can', 'such', 'towards', 'each', 'ie', 'is', 'due', 'nowhere', 'whereafter', 'those', 'her', 'was', 'already', 'indeed', 'all', 'somehow', 'cannot', 'find', 'will', 'once', 'very', 'behind', 'some', 'same', 'became', 'own', 'de', 'too', 'would', 'below', 'a', 'whenever', 'were', 'why', 'has', 'and', 'still', 'becoming', 'none', 'ever', 'off', 'they', 'four', 'never', 'empty', 'become', 'eight', 'of', 'upon', 'amongst', 'mine', 'throughout', 'over', 'found', 'them', 'what', 'whereby', 'call', 'back', 'fifty', 'everywhere', 'hereupon', 'down', 'much', 'further', 'well', 'across', 'ltd', 'however', 'must', 'anywhere', 'yourselves', 'else', 'six', 'third', 'while', 'enough', 'against', 'please', 'during', 'under', 'anyway', 'everyone', 'are', 'anyhow', 'everything', 'to', 'thru', 'thick', 'may', 'my', 'fire', 'his', 'made', 'us', 'for', 'among', 'someone', 'thereby', 'your', 'etc', 'being', 'be', 'our', 'describe', 'cant', 'done', 'thin', 'eleven', 'again', 'otherwise', 'you', 'above', 'have', 'do', 'than', 'per', 'name', 'without', 'eg', 'serious', 'several', 'it', 'she', 'himself', 'as', 'whose', 'most', 'five', 'should', 'toward', 'ours', 'might', 'full', 'move', 'neither', 'give', 'yours', 'around', 'yet', 'in', 'sometime', 'there', 'here', 'within', 'sixty', 'even', 'nevertheless', 'wherever', 'either', 'thereupon', 'three', 'its', 'inc', 'something', 'seeming', 'where', 'yourself', 'into', 'therefore', 'had', 'wherein', 'meanwhile', 'seemed', 'co', 'am', 'hundred', 'although', 'whatever', 'first', 'twelve', 'another', 'system', 'nobody', 'since', 'then', 'noone', 'which', 'namely', 'put', 'could', 'amount', 'both', 'or', 'sometimes', 'whole', 'show', 'alone', 'latter', 'few', 'con', 'itself', 'their', 'rather', 'after', 'only', 'whereupon', 'i', 'often', 'ourselves', 'bottom', 'before', 'besides', 'mill', 'this'})\n"
     ]
    }
   ],
   "source": [
    "from sklearn.feature_extraction import stop_words\n",
    "print(stop_words.ENGLISH_STOP_WORDS)"
   ]
  },
  {
   "cell_type": "markdown",
   "metadata": {},
   "source": [
    "You should have seen a large list of words that looks like:\n",
    "\n",
    "```frozenset({'across', 'mine', 'cannot', ...})```\n",
    "\n",
    "`frozenset` is a type of Python object that is immutable. In this lab you can use it just like an array without conversion."
   ]
  },
  {
   "cell_type": "markdown",
   "metadata": {},
   "source": [
    "Next, test your function with supplying `stop_words.ENGLISH_STOP_WORDS` as the second parameter."
   ]
  },
  {
   "cell_type": "code",
   "execution_count": 15,
   "metadata": {},
   "outputs": [],
   "source": [
    "bow = get_bow_from_docs(docs, stop_words=stop_words.ENGLISH_STOP_WORDS)"
   ]
  },
  {
   "cell_type": "code",
   "execution_count": 16,
   "metadata": {},
   "outputs": [
    {
     "name": "stdout",
     "output_type": "stream",
     "text": [
      "{'bagOfWords': ['doc1txt', 'doc2txt', 'doc3txt'], 'termFreq': [['doc1txt'], ['doc2txt'], ['doc3txt']]}\n"
     ]
    }
   ],
   "source": [
    "print(bow)"
   ]
  },
  {
   "cell_type": "markdown",
   "metadata": {},
   "source": [
    "You should have seen:\n",
    "\n",
    "```{'bag_of_words': ['ironhack', 'cool', 'love', 'student'], 'term_freq': [[1, 1, 0, 0], [1, 0, 1, 0], [1, 0, 0, 1]]}```"
   ]
  }
 ],
 "metadata": {
  "kernelspec": {
   "display_name": "Python 3",
   "language": "python",
   "name": "python3"
  },
  "language_info": {
   "codemirror_mode": {
    "name": "ipython",
    "version": 3
   },
   "file_extension": ".py",
   "mimetype": "text/x-python",
   "name": "python",
   "nbconvert_exporter": "python",
   "pygments_lexer": "ipython3",
   "version": "3.7.4"
  }
 },
 "nbformat": 4,
 "nbformat_minor": 4
}
