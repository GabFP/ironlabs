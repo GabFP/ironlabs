{
 "cells": [
  {
   "cell_type": "markdown",
   "metadata": {},
   "source": [
    "In the cell below, create a Python function that wraps your previous solution for the Bag of Words lab.\n",
    "\n",
    "Requirements:\n",
    "\n",
    "1. Your function should accept the following parameters:\n",
    "    * `docs` [REQUIRED] - array of document paths.\n",
    "    * `stop_words` [OPTIONAL] - array of stop words. The default value is an empty array.\n",
    "\n",
    "1. Your function should return a Python object that contains the following:\n",
    "    * `bag_of_words` - array of strings of normalized unique words in the corpus.\n",
    "    * `term_freq` - array of the term-frequency vectors."
   ]
  },
  {
   "cell_type": "code",
   "execution_count": 1,
   "metadata": {},
   "outputs": [],
   "source": [
    "import re"
   ]
  },
  {
   "cell_type": "code",
   "execution_count": 65,
   "metadata": {},
   "outputs": [],
   "source": [
    "def get_bow_from_docs(docs, stop_words=[]):\n",
    "    \n",
    "# In the function, first define the variables you will use such as `corpus`, `bag_of_words`, and `term_freq`.\n",
    "    \n",
    "    corpus = [re.sub(\"[^a-z0-9A-Z\\s]\", \"\", open(i, \"r\").read()).lower() for i in docs]\n",
    "    bagOfWords = []\n",
    "    for i in corpus:\n",
    "        for x in i.split():\n",
    "            if x not in bagOfWords:\n",
    "                bagOfWords.append(x)    \n",
    "    bagOfWords = [i for i in bagOfWords if i not in stop_words]\n",
    "    termFreq=[]\n",
    "    for i in corpus:\n",
    "        termFreq.append([])\n",
    "        for x in bagOfWords:\n",
    "            termFreq[corpus.index(i)].append(i.split().count(x))\n",
    "    # Now return your output as an object\n",
    "    return {\n",
    "        \"bagOfWords\": bagOfWords,\n",
    "        \"termFreq\": termFreq\n",
    "    }\n",
    "    "
   ]
  },
  {
   "cell_type": "markdown",
   "metadata": {},
   "source": [
    "Test your function without stop words. You should see the output like below:\n",
    "\n",
    "```{'bag_of_words': ['ironhack', 'is', 'cool', 'i', 'love', 'am', 'a', 'student', 'at'], 'term_freq': [[1, 1, 1, 0, 0, 0, 0, 0, 0], [1, 0, 0, 1, 1, 0, 0, 0, 0], [1, 0, 0, 1, 0, 1, 1, 1, 1]]}```"
   ]
  },
  {
   "cell_type": "code",
   "execution_count": 66,
   "metadata": {},
   "outputs": [],
   "source": [
    "# Define doc paths array\n",
    "docs = ['doc1.txt',\n",
    "       'doc2.txt',\n",
    "       'doc3.txt']"
   ]
  },
  {
   "cell_type": "code",
   "execution_count": 67,
   "metadata": {},
   "outputs": [],
   "source": [
    "# Obtain BoW from your function\n",
    "bow = get_bow_from_docs(docs)"
   ]
  },
  {
   "cell_type": "code",
   "execution_count": 68,
   "metadata": {},
   "outputs": [
    {
     "name": "stdout",
     "output_type": "stream",
     "text": [
      "{'bagOfWords': ['ironhack', 'is', 'cool', 'i', 'love', 'am', 'a', 'student', 'at'], 'termFreq': [[1, 1, 1, 0, 0, 0, 0, 0, 0], [1, 0, 0, 1, 1, 0, 0, 0, 0], [1, 0, 0, 1, 0, 1, 1, 1, 1]]}\n"
     ]
    }
   ],
   "source": [
    "# Print BoW\n",
    "print(bow)"
   ]
  },
  {
   "cell_type": "markdown",
   "metadata": {},
   "source": [
    "If your attempt above is successful, nice work done!\n",
    "\n",
    "Now test your function again with the stop words. In the previous lab we defined the stop words in a large array. In this lab, we'll import the stop words from Scikit-Learn."
   ]
  },
  {
   "cell_type": "code",
   "execution_count": 69,
   "metadata": {},
   "outputs": [
    {
     "name": "stdout",
     "output_type": "stream",
     "text": [
      "frozenset({'see', 'ours', 'all', 'yet', 'couldnt', 'out', 'except', 'too', 'whereafter', 'she', 'less', 'each', 'a', 'describe', 'thereafter', 'via', 'am', 'were', 'these', 'whither', 'alone', 'beside', 'keep', 'system', 'what', 'own', 'we', 'thick', 'never', 'anyway', 'front', 'should', 'it', 'become', 'above', 'else', 'thereby', 'everything', 'herself', 'serious', 'fifty', 'nevertheless', 'anything', 'side', 'than', 'everywhere', 'at', 'thereupon', 'yourself', 'hence', 'amount', 'them', 'many', 'where', 'among', 'been', 'might', 'namely', 'such', 'well', 'onto', 'whom', 'also', 'etc', 'often', 'my', 'even', 'fill', 'upon', 'done', 'do', 'may', 'anyone', 'somehow', 'made', 'would', 'through', 'here', 'be', 'their', 'between', 'then', 'much', 'perhaps', 'three', 'on', 'yourselves', 'fifteen', 'ltd', 'whereas', 're', 'latterly', 'whether', 'are', 'nothing', 'whereupon', 'along', 'top', 'former', 'mostly', 'those', 'same', 'rather', 'her', 'still', 'once', 'down', 'has', 'put', 'go', 'about', 'they', 'con', 'mine', 'found', 'none', 'nowhere', 'amoungst', 'moreover', 'over', 'whoever', 'full', 'get', 'take', 'sometime', 'must', 'anywhere', 'against', 'next', 'someone', 'twelve', 'and', 'others', 'up', 'five', 'already', 'whereby', 'either', 'to', 'name', 'seem', 'noone', 'have', 'third', 'therein', 'hundred', 'whenever', 'us', 'can', 'whole', 'seemed', 'towards', 'eleven', 'seeming', 'by', 'everyone', 'if', 'least', 'for', 'formerly', 'he', 'thru', 'elsewhere', 'bill', 'per', 'me', 'beyond', 'you', 'cannot', 'back', 'toward', 'him', 'detail', 'anyhow', 'herein', 'seems', 'how', 'nine', 'besides', 'itself', 'twenty', 'together', 'so', 'is', 'four', 'ourselves', 'the', 'both', 'thin', 'somewhere', 'move', 'yours', 'six', 'one', 'from', 'indeed', 'sincere', 'thence', 'wherever', 'an', 'i', 'again', 'why', 'or', 'un', 'other', 'mill', 'hereupon', 'but', 'de', 'interest', 'hereby', 'without', 'eg', 'latter', 'every', 'until', 'although', 'amongst', 'during', 'call', 'few', 'always', 'ever', 'sometimes', 'myself', 'behind', 'because', 'of', 'when', 'under', 'within', 'sixty', 'last', 'therefore', 'not', 'cant', 'there', 'otherwise', 'before', 'became', 'show', 'eight', 'themselves', 'its', 'very', 'give', 'was', 'part', 'neither', 'any', 'however', 'will', 'becoming', 'as', 'wherein', 'ie', 'most', 'becomes', 'hereafter', 'bottom', 'in', 'had', 'due', 'beforehand', 'below', 'no', 'hasnt', 'around', 'whence', 'since', 'our', 'that', 'across', 'being', 'cry', 'after', 'further', 'hers', 'with', 'please', 'himself', 'fire', 'his', 'only', 'off', 'nor', 'another', 'find', 'could', 'ten', 'while', 'more', 'enough', 'meanwhile', 'which', 'whatever', 'thus', 'inc', 'co', 'nobody', 'two', 'forty', 'something', 'some', 'though', 'throughout', 'first', 'into', 'whose', 'this', 'your', 'afterwards', 'now', 'several', 'who', 'almost', 'empty'})\n"
     ]
    }
   ],
   "source": [
    "from sklearn.feature_extraction import stop_words\n",
    "print(stop_words.ENGLISH_STOP_WORDS)"
   ]
  },
  {
   "cell_type": "markdown",
   "metadata": {},
   "source": [
    "You should have seen a large list of words that looks like:\n",
    "\n",
    "```frozenset({'across', 'mine', 'cannot', ...})```\n",
    "\n",
    "`frozenset` is a type of Python object that is immutable. In this lab you can use it just like an array without conversion."
   ]
  },
  {
   "cell_type": "markdown",
   "metadata": {},
   "source": [
    "Next, test your function with supplying `stop_words.ENGLISH_STOP_WORDS` as the second parameter."
   ]
  },
  {
   "cell_type": "code",
   "execution_count": 70,
   "metadata": {},
   "outputs": [],
   "source": [
    "bow = get_bow_from_docs(docs, stop_words=stop_words.ENGLISH_STOP_WORDS)"
   ]
  },
  {
   "cell_type": "code",
   "execution_count": 71,
   "metadata": {},
   "outputs": [
    {
     "name": "stdout",
     "output_type": "stream",
     "text": [
      "{'bagOfWords': ['ironhack', 'cool', 'love', 'student'], 'termFreq': [[1, 1, 0, 0], [1, 0, 1, 0], [1, 0, 0, 1]]}\n"
     ]
    }
   ],
   "source": [
    "print(bow)"
   ]
  },
  {
   "cell_type": "markdown",
   "metadata": {},
   "source": [
    "You should have seen:\n",
    "\n",
    "```{'bag_of_words': ['ironhack', 'cool', 'love', 'student'], 'term_freq': [[1, 1, 0, 0], [1, 0, 1, 0], [1, 0, 0, 1]]}```"
   ]
  }
 ],
 "metadata": {
  "kernelspec": {
   "display_name": "Python 3",
   "language": "python",
   "name": "python3"
  },
  "language_info": {
   "codemirror_mode": {
    "name": "ipython",
    "version": 3
   },
   "file_extension": ".py",
   "mimetype": "text/x-python",
   "name": "python",
   "nbconvert_exporter": "python",
   "pygments_lexer": "ipython3",
   "version": "3.7.4"
  }
 },
 "nbformat": 4,
 "nbformat_minor": 4
}
